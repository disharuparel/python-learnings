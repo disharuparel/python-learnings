{
 "cells": [
  {
   "cell_type": "code",
   "execution_count": 1,
   "id": "5a112981",
   "metadata": {},
   "outputs": [],
   "source": [
    "# Import NumPy as its abbreviation 'np'\n",
    "\n",
    "import numpy as np"
   ]
  },
  {
   "cell_type": "code",
   "execution_count": 3,
   "id": "f3973e5a",
   "metadata": {},
   "outputs": [
    {
     "data": {
      "text/plain": [
       "(array([1, 2, 3]),\n",
       " array([[4, 5, 6],\n",
       "        [7, 8, 9]]),\n",
       " array([[[10, 11, 12],\n",
       "         [13, 14, 15]],\n",
       " \n",
       "        [[16, 17, 18],\n",
       "         [19, 20, 21]]]))"
      ]
     },
     "execution_count": 3,
     "metadata": {},
     "output_type": "execute_result"
    }
   ],
   "source": [
    "# Create a 1-dimensional NumPy array using np.array()\n",
    "\n",
    "d1 = np.array([1, 2, 3])\n",
    "\n",
    "# Create a 2-dimensional NumPy array using np.array()\n",
    "\n",
    "d2 = np.array([[4, 5, 6],\n",
    "              [7, 8, 9]])\n",
    "\n",
    "# Create a 3-dimensional Numpy array using np.array()\n",
    "\n",
    "d3 = np.array([[[10, 11, 12],\n",
    "               [13, 14, 15]],\n",
    "              [[16, 17, 18],\n",
    "              [19, 20, 21]]])\n",
    "\n",
    "d1, d2, d3"
   ]
  },
  {
   "cell_type": "code",
   "execution_count": 5,
   "id": "82a93781",
   "metadata": {},
   "outputs": [
    {
     "name": "stdout",
     "output_type": "stream",
     "text": [
      "d1 shape : (3,)\n",
      "d1 dimensions : 1\n",
      "d1 data type : int32\n",
      "d1 size : 3\n",
      "d1 type : <class 'numpy.ndarray'>\n",
      "d2 shape : (2, 3)\n",
      "d2 dimensions : 2\n",
      "d2 data type : int32\n",
      "d2 size : 6\n",
      "d2 type : <class 'numpy.ndarray'>\n",
      "d3 shape : (2, 2, 3)\n",
      "d3 dimensions : 3\n",
      "d3 data type : int32\n",
      "d3 size : 12\n",
      "d3 type : <class 'numpy.ndarray'>\n"
     ]
    }
   ],
   "source": [
    "# Attributes of 1-dimensional array (shape, \n",
    "# number of dimensions, data type, size and type)\n",
    "\n",
    "print(f\"d1 shape : {d1.shape}\")\n",
    "print(f\"d1 dimensions : {d1.ndim}\")\n",
    "print(f\"d1 data type : {d1.dtype}\")\n",
    "print(f\"d1 size : {d1.size}\")\n",
    "print(f\"d1 type : {type(d1)}\")\n",
    "\n",
    "# Attributes of 2-dimensional array\n",
    "\n",
    "print(f\"d2 shape : {d2.shape}\")\n",
    "print(f\"d2 dimensions : {d2.ndim}\")\n",
    "print(f\"d2 data type : {d2.dtype}\")\n",
    "print(f\"d2 size : {d2.size}\")\n",
    "print(f\"d2 type : {type(d2)}\")\n",
    "\n",
    "# Attributes of 3-dimensional array\n",
    "\n",
    "print(f\"d3 shape : {d3.shape}\")\n",
    "print(f\"d3 dimensions : {d3.ndim}\")\n",
    "print(f\"d3 data type : {d3.dtype}\")\n",
    "print(f\"d3 size : {d3.size}\")\n",
    "print(f\"d3 type : {type(d3)}\")"
   ]
  },
  {
   "cell_type": "code",
   "execution_count": 20,
   "id": "4bc5cbb6",
   "metadata": {},
   "outputs": [
    {
     "data": {
      "text/html": [
       "<div>\n",
       "<style scoped>\n",
       "    .dataframe tbody tr th:only-of-type {\n",
       "        vertical-align: middle;\n",
       "    }\n",
       "\n",
       "    .dataframe tbody tr th {\n",
       "        vertical-align: top;\n",
       "    }\n",
       "\n",
       "    .dataframe thead th {\n",
       "        text-align: right;\n",
       "    }\n",
       "</style>\n",
       "<table border=\"1\" class=\"dataframe\">\n",
       "  <thead>\n",
       "    <tr style=\"text-align: right;\">\n",
       "      <th></th>\n",
       "      <th>0</th>\n",
       "      <th>1</th>\n",
       "      <th>2</th>\n",
       "    </tr>\n",
       "  </thead>\n",
       "  <tbody>\n",
       "    <tr>\n",
       "      <th>0</th>\n",
       "      <td>10</td>\n",
       "      <td>11</td>\n",
       "      <td>12</td>\n",
       "    </tr>\n",
       "    <tr>\n",
       "      <th>1</th>\n",
       "      <td>13</td>\n",
       "      <td>14</td>\n",
       "      <td>15</td>\n",
       "    </tr>\n",
       "    <tr>\n",
       "      <th>2</th>\n",
       "      <td>16</td>\n",
       "      <td>17</td>\n",
       "      <td>18</td>\n",
       "    </tr>\n",
       "    <tr>\n",
       "      <th>3</th>\n",
       "      <td>19</td>\n",
       "      <td>20</td>\n",
       "      <td>21</td>\n",
       "    </tr>\n",
       "  </tbody>\n",
       "</table>\n",
       "</div>"
      ],
      "text/plain": [
       "    0   1   2\n",
       "0  10  11  12\n",
       "1  13  14  15\n",
       "2  16  17  18\n",
       "3  19  20  21"
      ]
     },
     "execution_count": 20,
     "metadata": {},
     "output_type": "execute_result"
    }
   ],
   "source": [
    "# Import pandas and create a DataFrame out of one\n",
    "# of the arrays you've created\n",
    "\n",
    "import pandas as pd\n",
    "\n",
    "Dataf1 = pd.DataFrame(d1)\n",
    "Dataf2 = pd.DataFrame(d2)\n",
    "\n",
    "Dataf1\n",
    "Dataf2\n",
    "\n",
    "# Pandas will take only 2d numpy array and create its dataframe\n",
    "\n",
    "d4 = d3.reshape(4,3)\n",
    "Dataf3 = pd.DataFrame(d4)\n",
    "Dataf3"
   ]
  },
  {
   "cell_type": "code",
   "execution_count": 23,
   "id": "e651ef86",
   "metadata": {},
   "outputs": [
    {
     "data": {
      "text/plain": [
       "array([[1., 1.],\n",
       "       [1., 1.],\n",
       "       [1., 1.],\n",
       "       [1., 1.],\n",
       "       [1., 1.],\n",
       "       [1., 1.],\n",
       "       [1., 1.],\n",
       "       [1., 1.],\n",
       "       [1., 1.],\n",
       "       [1., 1.]])"
      ]
     },
     "execution_count": 23,
     "metadata": {},
     "output_type": "execute_result"
    }
   ],
   "source": [
    "# Create an array of shape (10, 2) with only ones\n",
    "\n",
    "d_ones = np.ones(shape=(10,2))\n",
    "d_ones"
   ]
  },
  {
   "cell_type": "code",
   "execution_count": 25,
   "id": "26042352",
   "metadata": {},
   "outputs": [
    {
     "data": {
      "text/plain": [
       "array([[[0., 0., 0.],\n",
       "        [0., 0., 0.]],\n",
       "\n",
       "       [[0., 0., 0.],\n",
       "        [0., 0., 0.]],\n",
       "\n",
       "       [[0., 0., 0.],\n",
       "        [0., 0., 0.]],\n",
       "\n",
       "       [[0., 0., 0.],\n",
       "        [0., 0., 0.]],\n",
       "\n",
       "       [[0., 0., 0.],\n",
       "        [0., 0., 0.]],\n",
       "\n",
       "       [[0., 0., 0.],\n",
       "        [0., 0., 0.]],\n",
       "\n",
       "       [[0., 0., 0.],\n",
       "        [0., 0., 0.]]])"
      ]
     },
     "execution_count": 25,
     "metadata": {},
     "output_type": "execute_result"
    }
   ],
   "source": [
    "# Create an array of shape (7, 2, 3) of only zeros\n",
    "\n",
    "d_zeros = np.zeros(shape=(7,2,3))\n",
    "d_zeros"
   ]
  },
  {
   "cell_type": "code",
   "execution_count": 27,
   "id": "24dadd9d",
   "metadata": {},
   "outputs": [
    {
     "data": {
      "text/plain": [
       "array([ 0,  3,  6,  9, 12, 15, 18, 21, 24, 27, 30, 33, 36, 39, 42, 45, 48,\n",
       "       51, 54, 57, 60, 63, 66, 69, 72, 75, 78, 81, 84, 87, 90, 93, 96, 99])"
      ]
     },
     "execution_count": 27,
     "metadata": {},
     "output_type": "execute_result"
    }
   ],
   "source": [
    "# Create an array within a range of 0 and 100 with step 3\n",
    "\n",
    "d_arange = np.arange(0,100,3)\n",
    "d_arange"
   ]
  },
  {
   "cell_type": "code",
   "execution_count": 37,
   "id": "a4fd7568",
   "metadata": {},
   "outputs": [
    {
     "data": {
      "text/plain": [
       "array([[6, 5],\n",
       "       [2, 9],\n",
       "       [7, 9],\n",
       "       [6, 0],\n",
       "       [4, 5],\n",
       "       [2, 0],\n",
       "       [4, 5]])"
      ]
     },
     "execution_count": 37,
     "metadata": {},
     "output_type": "execute_result"
    }
   ],
   "source": [
    "# Create a random array with numbers between 0 and 10 of size (7, 2)\n",
    "\n",
    "d_randint = np.random.randint(10, size=(7,2))\n",
    "d_randint"
   ]
  },
  {
   "cell_type": "code",
   "execution_count": 39,
   "id": "de80395d",
   "metadata": {},
   "outputs": [
    {
     "data": {
      "text/plain": [
       "array([[0.09707551, 0.75072948, 0.22198222, 0.27244817, 0.68122677],\n",
       "       [0.52764375, 0.00588315, 0.30532137, 0.08984312, 0.58690115],\n",
       "       [0.75239439, 0.8357871 , 0.53330845, 0.15851092, 0.79105702]])"
      ]
     },
     "execution_count": 39,
     "metadata": {},
     "output_type": "execute_result"
    }
   ],
   "source": [
    "# Create a random array of floats between 0 & 1 of shape (3, 5)\n",
    "\n",
    "d_rand = np.random.random((3,5))\n",
    "d_rand"
   ]
  },
  {
   "cell_type": "code",
   "execution_count": 42,
   "id": "fc1de2d0",
   "metadata": {},
   "outputs": [
    {
     "data": {
      "text/plain": [
       "array([[6, 3, 7, 4, 6, 9],\n",
       "       [2, 6, 7, 4, 3, 7],\n",
       "       [7, 2, 5, 4, 1, 7],\n",
       "       [5, 1, 4, 0, 9, 5]])"
      ]
     },
     "execution_count": 42,
     "metadata": {},
     "output_type": "execute_result"
    }
   ],
   "source": [
    "# Set the random seed to 42\n",
    "\n",
    "np.random.seed(42)\n",
    "\n",
    "# Create a random array of numbers between 0 & 10 of size (4, 6)\n",
    "\n",
    "d_rand_seed = np.random.randint(10, size=(4,6))\n",
    "d_rand_seed"
   ]
  },
  {
   "cell_type": "code",
   "execution_count": 45,
   "id": "49fa4992",
   "metadata": {},
   "outputs": [
    {
     "name": "stdout",
     "output_type": "stream",
     "text": [
      "[[2 5 8 9 9 1 9]\n",
      " [7 9 8 1 8 8 3]\n",
      " [1 8 3 3 1 5 7]]\n"
     ]
    },
    {
     "data": {
      "text/plain": [
       "array([1, 2, 3, 5, 7, 8, 9])"
      ]
     },
     "execution_count": 45,
     "metadata": {},
     "output_type": "execute_result"
    }
   ],
   "source": [
    "# Create an array of random numbers between 1 & 10 of size (3, 7)\n",
    "# and save it to a variable\n",
    "\n",
    "d5 = np.random.randint(1, 10, size=(3,7))\n",
    "print(d5)\n",
    "\n",
    "# Find the unique numbers in the array you just created\n",
    "np.unique(d5)"
   ]
  },
  {
   "cell_type": "code",
   "execution_count": 47,
   "id": "dce04dd3",
   "metadata": {},
   "outputs": [
    {
     "data": {
      "text/plain": [
       "2"
      ]
     },
     "execution_count": 47,
     "metadata": {},
     "output_type": "execute_result"
    }
   ],
   "source": [
    "# Find the 0'th index of the latest array you created\n",
    "\n",
    "d5[0][0]"
   ]
  },
  {
   "cell_type": "code",
   "execution_count": 48,
   "id": "96989410",
   "metadata": {},
   "outputs": [
    {
     "data": {
      "text/plain": [
       "array([[2, 5, 8, 9, 9, 1, 9],\n",
       "       [7, 9, 8, 1, 8, 8, 3]])"
      ]
     },
     "execution_count": 48,
     "metadata": {},
     "output_type": "execute_result"
    }
   ],
   "source": [
    "# Get the first 2 rows of latest array you created\n",
    "\n",
    "d5[:2,:]"
   ]
  },
  {
   "cell_type": "code",
   "execution_count": 51,
   "id": "6580653d",
   "metadata": {},
   "outputs": [
    {
     "data": {
      "text/plain": [
       "array([[2, 5],\n",
       "       [7, 9]])"
      ]
     },
     "execution_count": 51,
     "metadata": {},
     "output_type": "execute_result"
    }
   ],
   "source": [
    "# Get the first 2 values of the first 2 rows of the latest array\n",
    "\n",
    "d5[:2,:2]"
   ]
  },
  {
   "cell_type": "code",
   "execution_count": 54,
   "id": "7f7a83fa",
   "metadata": {},
   "outputs": [
    {
     "name": "stdout",
     "output_type": "stream",
     "text": [
      "[[3 3 4 6 6]\n",
      " [3 6 2 5 1]\n",
      " [9 8 4 5 3]]\n",
      "[[1 1 1 1 1]\n",
      " [1 1 1 1 1]\n",
      " [1 1 1 1 1]]\n"
     ]
    }
   ],
   "source": [
    "# Create a random array of numbers between 0 & 10 and an array of ones\n",
    "# both of size (3, 5), save them both to variables\n",
    "\n",
    "d6 = np.random.randint(10, size=(3,5))\n",
    "d_ones = np.ones((3,5), dtype=int)\n",
    "print(d6)\n",
    "print(d_ones)"
   ]
  },
  {
   "cell_type": "code",
   "execution_count": 55,
   "id": "7acc7e9d",
   "metadata": {},
   "outputs": [
    {
     "data": {
      "text/plain": [
       "array([[ 4,  4,  5,  7,  7],\n",
       "       [ 4,  7,  3,  6,  2],\n",
       "       [10,  9,  5,  6,  4]])"
      ]
     },
     "execution_count": 55,
     "metadata": {},
     "output_type": "execute_result"
    }
   ],
   "source": [
    "# Add the two arrays together\n",
    "\n",
    "d6+d_ones"
   ]
  },
  {
   "cell_type": "code",
   "execution_count": 63,
   "id": "cb83a345",
   "metadata": {},
   "outputs": [
    {
     "data": {
      "text/plain": [
       "array([[ 4,  4,  5,  7,  7],\n",
       "       [ 4,  7,  3,  6,  2],\n",
       "       [10,  9,  5,  6,  4]])"
      ]
     },
     "execution_count": 63,
     "metadata": {},
     "output_type": "execute_result"
    }
   ],
   "source": [
    "d7 = np.add(d6,d_ones)\n",
    "d7"
   ]
  },
  {
   "cell_type": "code",
   "execution_count": 59,
   "id": "22339515",
   "metadata": {},
   "outputs": [
    {
     "name": "stdout",
     "output_type": "stream",
     "text": [
      "Wall time: 0 ns\n",
      "Wall time: 0 ns\n"
     ]
    },
    {
     "data": {
      "text/plain": [
       "array([[ 4,  4,  5,  7,  7],\n",
       "       [ 4,  7,  3,  6,  2],\n",
       "       [10,  9,  5,  6,  4]])"
      ]
     },
     "execution_count": 59,
     "metadata": {},
     "output_type": "execute_result"
    }
   ],
   "source": [
    "%time d6+d_ones\n",
    "%time np.add(d6,d_ones)"
   ]
  },
  {
   "cell_type": "code",
   "execution_count": 60,
   "id": "000b2084",
   "metadata": {},
   "outputs": [
    {
     "data": {
      "text/plain": [
       "array([[1, 1, 1],\n",
       "       [1, 1, 1],\n",
       "       [1, 1, 1],\n",
       "       [1, 1, 1],\n",
       "       [1, 1, 1]])"
      ]
     },
     "execution_count": 60,
     "metadata": {},
     "output_type": "execute_result"
    }
   ],
   "source": [
    "# Create another array of ones of shape (5, 3)\n",
    "\n",
    "d_new_ones = np.ones((5,3), dtype=int)\n",
    "d_new_ones"
   ]
  },
  {
   "cell_type": "code",
   "execution_count": 66,
   "id": "53e7914a",
   "metadata": {},
   "outputs": [
    {
     "data": {
      "text/plain": [
       "array([[ 4,  4,  5,  7,  7],\n",
       "       [ 4,  7,  3,  6,  2],\n",
       "       [10,  9,  5,  6,  4]])"
      ]
     },
     "execution_count": 66,
     "metadata": {},
     "output_type": "execute_result"
    }
   ],
   "source": [
    "d7"
   ]
  },
  {
   "cell_type": "code",
   "execution_count": 70,
   "id": "ea2a4c59",
   "metadata": {},
   "outputs": [
    {
     "data": {
      "text/plain": [
       "array([[ 5,  5,  6,  8,  8],\n",
       "       [ 5,  8,  4,  7,  3],\n",
       "       [11, 10,  6,  7,  5]])"
      ]
     },
     "execution_count": 70,
     "metadata": {},
     "output_type": "execute_result"
    }
   ],
   "source": [
    "# Try add the array of ones and the other most recent array together\n",
    "\n",
    "d8 = np.add(d7, d_new_ones.T)\n",
    "d8"
   ]
  },
  {
   "cell_type": "code",
   "execution_count": 68,
   "id": "9c42bcad",
   "metadata": {},
   "outputs": [
    {
     "data": {
      "text/plain": [
       "array([[1, 1, 1, 1, 1],\n",
       "       [1, 1, 1, 1, 1],\n",
       "       [1, 1, 1, 1, 1]])"
      ]
     },
     "execution_count": 68,
     "metadata": {},
     "output_type": "execute_result"
    }
   ],
   "source": [
    "# Create another array of ones of shape (3, 5)\n",
    "\n",
    "d_new_new_ones = np.ones((3,5), dtype=int)\n",
    "d_new_new_ones"
   ]
  },
  {
   "cell_type": "code",
   "execution_count": 73,
   "id": "c1c518ba",
   "metadata": {},
   "outputs": [
    {
     "data": {
      "text/plain": [
       "array([[ 4,  4,  5,  7,  7],\n",
       "       [ 4,  7,  3,  6,  2],\n",
       "       [10,  9,  5,  6,  4]])"
      ]
     },
     "execution_count": 73,
     "metadata": {},
     "output_type": "execute_result"
    }
   ],
   "source": [
    "# Subtract the new array of ones from the other most recent array\n",
    "\n",
    "d9 = np.subtract(d8,d_new_new_ones)\n",
    "d9"
   ]
  },
  {
   "cell_type": "code",
   "execution_count": 74,
   "id": "b0bc2b23",
   "metadata": {},
   "outputs": [
    {
     "data": {
      "text/plain": [
       "array([[ 4,  4,  5,  7,  7],\n",
       "       [ 4,  7,  3,  6,  2],\n",
       "       [10,  9,  5,  6,  4]])"
      ]
     },
     "execution_count": 74,
     "metadata": {},
     "output_type": "execute_result"
    }
   ],
   "source": [
    "# Multiply the ones array with the latest array\n",
    "\n",
    "np.multiply(d9, d_new_new_ones)"
   ]
  },
  {
   "cell_type": "code",
   "execution_count": 82,
   "id": "52ed1383",
   "metadata": {},
   "outputs": [
    {
     "data": {
      "text/plain": [
       "array([[ 16,  16,  25,  49,  49],\n",
       "       [ 16,  49,   9,  36,   4],\n",
       "       [100,  81,  25,  36,  16]], dtype=int32)"
      ]
     },
     "execution_count": 82,
     "metadata": {},
     "output_type": "execute_result"
    }
   ],
   "source": [
    "# Take the latest array to the power of 2 using '**'\n",
    "# Do the same thing with np.square()\n",
    "\n",
    "# np.power(d9,2)\n",
    "# np.square(d9)\n",
    "d10 = d9**2\n",
    "d10"
   ]
  },
  {
   "cell_type": "code",
   "execution_count": 83,
   "id": "962d2a66",
   "metadata": {},
   "outputs": [
    {
     "data": {
      "text/plain": [
       "35.13333333333333"
      ]
     },
     "execution_count": 83,
     "metadata": {},
     "output_type": "execute_result"
    }
   ],
   "source": [
    "# Find the mean of the latest array using np.mean()\n",
    "\n",
    "np.mean(d10)"
   ]
  },
  {
   "cell_type": "code",
   "execution_count": 84,
   "id": "bfb518bf",
   "metadata": {},
   "outputs": [
    {
     "data": {
      "text/plain": [
       "100"
      ]
     },
     "execution_count": 84,
     "metadata": {},
     "output_type": "execute_result"
    }
   ],
   "source": [
    "# Find the maximum of the latest array using np.max()\n",
    "\n",
    "np.max(d10)"
   ]
  },
  {
   "cell_type": "code",
   "execution_count": 85,
   "id": "cd8185f4",
   "metadata": {},
   "outputs": [
    {
     "data": {
      "text/plain": [
       "4"
      ]
     },
     "execution_count": 85,
     "metadata": {},
     "output_type": "execute_result"
    }
   ],
   "source": [
    "# Find the minimum of the latest array using np.min()\n",
    "\n",
    "np.min(d10)"
   ]
  },
  {
   "cell_type": "code",
   "execution_count": 90,
   "id": "c3d04cfd",
   "metadata": {},
   "outputs": [
    {
     "name": "stdout",
     "output_type": "stream",
     "text": [
      "For Population 26.091803736465256\n",
      "For Sample 27.007582709482236\n"
     ]
    }
   ],
   "source": [
    "# Find the standard deviation of the latest array\n",
    "\n",
    "print(f\"For Population {np.std(d10)}\")\n",
    "\n",
    "# By default the standard deviation is calculated for Population.\n",
    "# To calculate it for Sample the denominator should be N-1 instead of N where N is number of elements.\n",
    "# Delta Degree of Freedom (ddof) is the divisor used in calculations is N - ddof.\n",
    "# Where N represents the number of elements. \n",
    "# By default ddof is zero.\n",
    "# So, for standard devaiation of Sample the formula is:\n",
    "\n",
    "print(f\"For Sample {np.std(d10, ddof=1)}\")"
   ]
  },
  {
   "cell_type": "code",
   "execution_count": 92,
   "id": "87c2bcba",
   "metadata": {},
   "outputs": [
    {
     "name": "stdout",
     "output_type": "stream",
     "text": [
      "For Population 680.7822222222222\n",
      "For Sample 729.4095238095239\n"
     ]
    }
   ],
   "source": [
    "# Find the variance of the latest array\n",
    "\n",
    "print(f\"For Population {np.var(d10)}\")\n",
    "\n",
    "# By default the variance is calculated for Population.\n",
    "# To calculate it for Sample the denominator should be N-1 instead of N where N is number of elements.\n",
    "# Delta Degree of Freedom (ddof) is the divisor used in calculations is N - ddof.\n",
    "# Where N represents the number of elements. \n",
    "# By default ddof is zero.\n",
    "# So, for standard devaiation of Sample the formula is:\n",
    "\n",
    "print(f\"For Sample {np.var(d10, ddof=1)}\")"
   ]
  },
  {
   "cell_type": "code",
   "execution_count": 94,
   "id": "e210a91d",
   "metadata": {},
   "outputs": [
    {
     "data": {
      "text/plain": [
       "array([[ 16,  16,  25,  49,  49],\n",
       "       [ 16,  49,   9,  36,   4],\n",
       "       [100,  81,  25,  36,  16]], dtype=int32)"
      ]
     },
     "execution_count": 94,
     "metadata": {},
     "output_type": "execute_result"
    }
   ],
   "source": [
    "d10"
   ]
  },
  {
   "cell_type": "code",
   "execution_count": 95,
   "id": "f8ae1714",
   "metadata": {},
   "outputs": [
    {
     "data": {
      "text/plain": [
       "array([[[ 16],\n",
       "        [ 16],\n",
       "        [ 25],\n",
       "        [ 49],\n",
       "        [ 49]],\n",
       "\n",
       "       [[ 16],\n",
       "        [ 49],\n",
       "        [  9],\n",
       "        [ 36],\n",
       "        [  4]],\n",
       "\n",
       "       [[100],\n",
       "        [ 81],\n",
       "        [ 25],\n",
       "        [ 36],\n",
       "        [ 16]]], dtype=int32)"
      ]
     },
     "execution_count": 95,
     "metadata": {},
     "output_type": "execute_result"
    }
   ],
   "source": [
    "# Reshape the latest array to (3, 5, 1)\n",
    "\n",
    "d11 = d10.reshape((3,5,1))\n",
    "d11"
   ]
  },
  {
   "cell_type": "code",
   "execution_count": 96,
   "id": "526a17fd",
   "metadata": {},
   "outputs": [
    {
     "data": {
      "text/plain": [
       "array([[[ 16,  16, 100],\n",
       "        [ 16,  49,  81],\n",
       "        [ 25,   9,  25],\n",
       "        [ 49,  36,  36],\n",
       "        [ 49,   4,  16]]], dtype=int32)"
      ]
     },
     "execution_count": 96,
     "metadata": {},
     "output_type": "execute_result"
    }
   ],
   "source": [
    "# Transpose the latest array\n",
    "\n",
    "d11.T"
   ]
  },
  {
   "cell_type": "code",
   "execution_count": 97,
   "id": "9d48b0b9",
   "metadata": {},
   "outputs": [],
   "source": [
    "# Create two arrays of random integers between 0 to 10\n",
    "# one of size (3, 3) the other of size (3, 2)\n",
    "\n",
    "d12 = np.random.randint(10, size=(3,3))\n",
    "d13 = np.random.randint(10, size=(3,2))"
   ]
  },
  {
   "cell_type": "code",
   "execution_count": 98,
   "id": "1d8274ee",
   "metadata": {},
   "outputs": [
    {
     "data": {
      "text/plain": [
       "array([[9, 6, 8],\n",
       "       [6, 0, 0],\n",
       "       [8, 8, 3]])"
      ]
     },
     "execution_count": 98,
     "metadata": {},
     "output_type": "execute_result"
    }
   ],
   "source": [
    "d12"
   ]
  },
  {
   "cell_type": "code",
   "execution_count": 99,
   "id": "b667d287",
   "metadata": {},
   "outputs": [
    {
     "data": {
      "text/plain": [
       "array([[8, 2],\n",
       "       [6, 5],\n",
       "       [7, 8]])"
      ]
     },
     "execution_count": 99,
     "metadata": {},
     "output_type": "execute_result"
    }
   ],
   "source": [
    "d13"
   ]
  },
  {
   "cell_type": "code",
   "execution_count": 100,
   "id": "e84c996c",
   "metadata": {},
   "outputs": [
    {
     "data": {
      "text/plain": [
       "array([[164, 112],\n",
       "       [ 48,  12],\n",
       "       [133,  80]])"
      ]
     },
     "execution_count": 100,
     "metadata": {},
     "output_type": "execute_result"
    }
   ],
   "source": [
    "# Perform a dot product on the two newest arrays you created\n",
    "\n",
    "d12.dot(d13)"
   ]
  },
  {
   "cell_type": "code",
   "execution_count": 101,
   "id": "fed18e90",
   "metadata": {},
   "outputs": [],
   "source": [
    "# Create two arrays of random integers between 0 to 10\n",
    "# both of size (4, 3)\n",
    "\n",
    "d13 = np.random.randint(10, size=(4,3))\n",
    "d14 = np.random.randint(10, size=(4,3))"
   ]
  },
  {
   "cell_type": "code",
   "execution_count": 102,
   "id": "27d57a08",
   "metadata": {},
   "outputs": [
    {
     "data": {
      "text/plain": [
       "array([[4, 0, 2],\n",
       "       [9, 7, 5],\n",
       "       [7, 8, 3],\n",
       "       [0, 0, 9]])"
      ]
     },
     "execution_count": 102,
     "metadata": {},
     "output_type": "execute_result"
    }
   ],
   "source": [
    "d13"
   ]
  },
  {
   "cell_type": "code",
   "execution_count": 103,
   "id": "041a5118",
   "metadata": {},
   "outputs": [
    {
     "data": {
      "text/plain": [
       "array([[3, 6, 1],\n",
       "       [2, 0, 4],\n",
       "       [0, 7, 0],\n",
       "       [0, 1, 1]])"
      ]
     },
     "execution_count": 103,
     "metadata": {},
     "output_type": "execute_result"
    }
   ],
   "source": [
    "d14"
   ]
  },
  {
   "cell_type": "code",
   "execution_count": 105,
   "id": "f9c1e358",
   "metadata": {},
   "outputs": [
    {
     "ename": "ValueError",
     "evalue": "shapes (4,3) and (4,3) not aligned: 3 (dim 1) != 4 (dim 0)",
     "output_type": "error",
     "traceback": [
      "\u001b[1;31m---------------------------------------------------------------------------\u001b[0m",
      "\u001b[1;31mValueError\u001b[0m                                Traceback (most recent call last)",
      "\u001b[1;32m<ipython-input-105-c64cd75b9eef>\u001b[0m in \u001b[0;36m<module>\u001b[1;34m\u001b[0m\n\u001b[0;32m      1\u001b[0m \u001b[1;31m# Perform a dot product on the two newest arrays you created\u001b[0m\u001b[1;33m\u001b[0m\u001b[1;33m\u001b[0m\u001b[1;33m\u001b[0m\u001b[0m\n\u001b[0;32m      2\u001b[0m \u001b[1;33m\u001b[0m\u001b[0m\n\u001b[1;32m----> 3\u001b[1;33m \u001b[0md13\u001b[0m\u001b[1;33m.\u001b[0m\u001b[0mdot\u001b[0m\u001b[1;33m(\u001b[0m\u001b[0md14\u001b[0m\u001b[1;33m)\u001b[0m\u001b[1;33m\u001b[0m\u001b[1;33m\u001b[0m\u001b[0m\n\u001b[0m",
      "\u001b[1;31mValueError\u001b[0m: shapes (4,3) and (4,3) not aligned: 3 (dim 1) != 4 (dim 0)"
     ]
    }
   ],
   "source": [
    "# Perform a dot product on the two newest arrays you created\n",
    "\n",
    "d13.dot(d14)"
   ]
  },
  {
   "cell_type": "code",
   "execution_count": 106,
   "id": "53023d50",
   "metadata": {},
   "outputs": [
    {
     "data": {
      "text/plain": [
       "array([[14, 16,  0,  2],\n",
       "       [74, 38, 49, 12],\n",
       "       [72, 26, 56, 11],\n",
       "       [ 9, 36,  0,  9]])"
      ]
     },
     "execution_count": 106,
     "metadata": {},
     "output_type": "execute_result"
    }
   ],
   "source": [
    "# It doesn't work. How would you fix it?\n",
    "\n",
    "# Take the latest two arrays, perform a transpose on one of them and then perform \n",
    "# a dot product on them both\n",
    "\n",
    "d13.dot(d14.T)"
   ]
  },
  {
   "cell_type": "code",
   "execution_count": 107,
   "id": "ad5614dd",
   "metadata": {},
   "outputs": [],
   "source": [
    "# Create two arrays of random integers between 0 & 10 of the same shape\n",
    "# and save them to variables\n",
    "\n",
    "d15 = np.random.randint(10, size=(2,2))\n",
    "d16 = np.random.randint(10, size=(2,2))"
   ]
  },
  {
   "cell_type": "code",
   "execution_count": 108,
   "id": "88b6f866",
   "metadata": {},
   "outputs": [
    {
     "data": {
      "text/plain": [
       "array([[5, 6],\n",
       "       [4, 0]])"
      ]
     },
     "execution_count": 108,
     "metadata": {},
     "output_type": "execute_result"
    }
   ],
   "source": [
    "d15"
   ]
  },
  {
   "cell_type": "code",
   "execution_count": 109,
   "id": "5b46e01a",
   "metadata": {},
   "outputs": [
    {
     "data": {
      "text/plain": [
       "array([[0, 2],\n",
       "       [1, 4]])"
      ]
     },
     "execution_count": 109,
     "metadata": {},
     "output_type": "execute_result"
    }
   ],
   "source": [
    "d16"
   ]
  },
  {
   "cell_type": "code",
   "execution_count": 110,
   "id": "3f69a635",
   "metadata": {},
   "outputs": [
    {
     "data": {
      "text/plain": [
       "array([[ True,  True],\n",
       "       [ True, False]])"
      ]
     },
     "execution_count": 110,
     "metadata": {},
     "output_type": "execute_result"
    }
   ],
   "source": [
    "# Compare the two arrays with '>'\n",
    "\n",
    "d15 > d16"
   ]
  },
  {
   "cell_type": "code",
   "execution_count": 111,
   "id": "b0c8cffc",
   "metadata": {},
   "outputs": [
    {
     "data": {
      "text/plain": [
       "array([[ True,  True],\n",
       "       [ True, False]])"
      ]
     },
     "execution_count": 111,
     "metadata": {},
     "output_type": "execute_result"
    }
   ],
   "source": [
    "# Compare the two arrays with '>='\n",
    "\n",
    "d15 >= d16"
   ]
  },
  {
   "cell_type": "code",
   "execution_count": 121,
   "id": "d7d80163",
   "metadata": {},
   "outputs": [
    {
     "name": "stdout",
     "output_type": "stream",
     "text": [
      "[5 6 4]\n",
      "(array([0, 0, 1], dtype=int64), array([0, 1, 0], dtype=int64))\n"
     ]
    }
   ],
   "source": [
    "# Find which elements of the first array are greater than 7\n",
    "\n",
    "print(d15[d15 > 3])\n",
    "\n",
    "# To print the indices of the ones which are greater than 3\n",
    "\n",
    "print(np.nonzero(d15>3))\n",
    "\n",
    "# The answers are (0,0) (0,1) and (1,0) and those will be printed in two arrays with row and column values"
   ]
  },
  {
   "cell_type": "code",
   "execution_count": 120,
   "id": "7f21e53e",
   "metadata": {},
   "outputs": [
    {
     "data": {
      "text/plain": [
       "array([[False, False],\n",
       "       [False, False]])"
      ]
     },
     "execution_count": 120,
     "metadata": {},
     "output_type": "execute_result"
    }
   ],
   "source": [
    "# Which parts of each array are equal? (try using '==')\n",
    "\n",
    "d15 == d16"
   ]
  },
  {
   "cell_type": "code",
   "execution_count": 123,
   "id": "580c7167",
   "metadata": {},
   "outputs": [
    {
     "data": {
      "text/plain": [
       "array([[5, 6],\n",
       "       [4, 0]])"
      ]
     },
     "execution_count": 123,
     "metadata": {},
     "output_type": "execute_result"
    }
   ],
   "source": [
    "d15"
   ]
  },
  {
   "cell_type": "code",
   "execution_count": 171,
   "id": "bcbbf045",
   "metadata": {},
   "outputs": [
    {
     "data": {
      "text/plain": [
       "array([[8, 7],\n",
       "       [3, 2]])"
      ]
     },
     "execution_count": 171,
     "metadata": {},
     "output_type": "execute_result"
    }
   ],
   "source": [
    "d17 = np.array([[8,7],\n",
    "               [3,2]])\n",
    "d17"
   ]
  },
  {
   "cell_type": "code",
   "execution_count": 130,
   "id": "cab976c0",
   "metadata": {},
   "outputs": [
    {
     "data": {
      "text/plain": [
       "array([[7, 8],\n",
       "       [2, 3]])"
      ]
     },
     "execution_count": 130,
     "metadata": {},
     "output_type": "execute_result"
    }
   ],
   "source": [
    "# Sort one of the arrays you just created in ascending order\n",
    "\n",
    "np.sort(d17)"
   ]
  },
  {
   "cell_type": "code",
   "execution_count": 172,
   "id": "a0f6db37",
   "metadata": {},
   "outputs": [
    {
     "data": {
      "text/plain": [
       "array([[1, 0],\n",
       "       [1, 0]], dtype=int64)"
      ]
     },
     "execution_count": 172,
     "metadata": {},
     "output_type": "execute_result"
    }
   ],
   "source": [
    "# Sort the indexes of one of the arrays you just created\n",
    "\n",
    "np.argsort(d17)"
   ]
  },
  {
   "cell_type": "code",
   "execution_count": 153,
   "id": "f6c64829",
   "metadata": {},
   "outputs": [],
   "source": [
    "d17 = np.array([[5, 7],\n",
    "                [3, 2]])"
   ]
  },
  {
   "cell_type": "code",
   "execution_count": 154,
   "id": "e5c92bb6",
   "metadata": {},
   "outputs": [
    {
     "data": {
      "text/plain": [
       "1"
      ]
     },
     "execution_count": 154,
     "metadata": {},
     "output_type": "execute_result"
    }
   ],
   "source": [
    "# Find the index with the maximum value in one of the arrays you've created\n",
    "\n",
    "np.amax(d17)\n",
    "\n",
    "#np.max(d17)\n",
    "\n",
    "np.argmax(d17)"
   ]
  },
  {
   "cell_type": "code",
   "execution_count": 155,
   "id": "22b3ea08",
   "metadata": {},
   "outputs": [
    {
     "data": {
      "text/plain": [
       "3"
      ]
     },
     "execution_count": 155,
     "metadata": {},
     "output_type": "execute_result"
    }
   ],
   "source": [
    "# Find the index with the minimum value in one of the arrays you've created\n",
    "\n",
    "np.argmin(d17)"
   ]
  },
  {
   "cell_type": "code",
   "execution_count": 156,
   "id": "70c24716",
   "metadata": {},
   "outputs": [
    {
     "data": {
      "text/plain": [
       "array([1, 0], dtype=int64)"
      ]
     },
     "execution_count": 156,
     "metadata": {},
     "output_type": "execute_result"
    }
   ],
   "source": [
    "# Find the indexes with the maximum values down the 1st axis (axis=1)\n",
    "# of one of the arrays you created\n",
    "\n",
    "np.argmax(d17, axis=1)"
   ]
  },
  {
   "cell_type": "code",
   "execution_count": 157,
   "id": "0702c120",
   "metadata": {},
   "outputs": [
    {
     "data": {
      "text/plain": [
       "array([1, 1], dtype=int64)"
      ]
     },
     "execution_count": 157,
     "metadata": {},
     "output_type": "execute_result"
    }
   ],
   "source": [
    "# Find the indexes with the minimum values across the 0th axis (axis=0)\n",
    "# of one of the arrays you created\n",
    "\n",
    "np.argmin(d17, axis=0)"
   ]
  },
  {
   "cell_type": "code",
   "execution_count": 170,
   "id": "75d0c5c0",
   "metadata": {},
   "outputs": [
    {
     "data": {
      "text/plain": [
       "array([[ 0.51242373,  0.54348869],\n",
       "       [ 0.02809946, -1.19708706]])"
      ]
     },
     "execution_count": 170,
     "metadata": {},
     "output_type": "execute_result"
    }
   ],
   "source": [
    "# Create an array of normally distributed random numbers\n",
    "\n",
    "np.random.randn(2,2)"
   ]
  },
  {
   "cell_type": "code",
   "execution_count": 168,
   "id": "12c5c86c",
   "metadata": {},
   "outputs": [
    {
     "data": {
      "text/plain": [
       "array([  1.,  12.,  23.,  34.,  45.,  56.,  67.,  78.,  89., 100.])"
      ]
     },
     "execution_count": 168,
     "metadata": {},
     "output_type": "execute_result"
    }
   ],
   "source": [
    "# Create an array with 10 evenly spaced numbers between 1 and 100\n",
    "\n",
    "np.linspace(1,100,10)"
   ]
  }
 ],
 "metadata": {
  "kernelspec": {
   "display_name": "Python 3",
   "language": "python",
   "name": "python3"
  },
  "language_info": {
   "codemirror_mode": {
    "name": "ipython",
    "version": 3
   },
   "file_extension": ".py",
   "mimetype": "text/x-python",
   "name": "python",
   "nbconvert_exporter": "python",
   "pygments_lexer": "ipython3",
   "version": "3.8.8"
  }
 },
 "nbformat": 4,
 "nbformat_minor": 5
}
